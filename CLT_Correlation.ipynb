{
 "cells": [
  {
   "cell_type": "markdown",
   "metadata": {},
   "source": [
    "## Central Limit Theorem"
   ]
  },
  {
   "cell_type": "markdown",
   "metadata": {},
   "source": [
    "As the number of samples taken from population increases, the distribution of the sample means tend to follow normal distribution"
   ]
  },
  {
   "cell_type": "code",
   "execution_count": 1,
   "metadata": {},
   "outputs": [],
   "source": [
    "import numpy as np\n",
    "import matplotlib.pyplot as plt\n",
    "import random\n",
    "def create_samples(num,size):\n",
    "    '''\n",
    "    Function to create 'num' number of samples of size 'size'\n",
    "    '''\n",
    "    return np.random.randint(1,100000,size=(num,size)) \n",
    "def get_sample_mean(arr):\n",
    "    '''\n",
    "    Function to get mean of an array\n",
    "    '''\n",
    "    return [np.mean(arr[i]) for i in range(len(arr))]"
   ]
  },
  {
   "cell_type": "code",
   "execution_count": 2,
   "metadata": {},
   "outputs": [
    {
     "name": "stdout",
     "output_type": "stream",
     "text": [
      "Please enter number of samples you want : 10000\n",
      "Please enter size of each samples you want : 200\n"
     ]
    },
    {
     "data": {
      "text/plain": [
       "(array([   5.,   33.,  266., 1133., 2505., 3107., 2029.,  778.,  131.,\n",
       "          13.]),\n",
       " array([41166.165, 42826.277, 44486.389, 46146.501, 47806.613, 49466.725,\n",
       "        51126.837, 52786.949, 54447.061, 56107.173, 57767.285]),\n",
       " <a list of 10 Patch objects>)"
      ]
     },
     "execution_count": 2,
     "metadata": {},
     "output_type": "execute_result"
    },
    {
     "data": {
      "image/png": "[encoded data removed]",
      "text/plain": [
       "<Figure size 432x288 with 1 Axes>"
      ]
     },
     "metadata": {
      "needs_background": "light"
     },
     "output_type": "display_data"
    }
   ],
   "source": [
    "num = int(input('Please enter number of samples you want : '))\n",
    "size = int(input('Please enter size of each samples you want : '))\n",
    "X = create_samples(num,size)\n",
    "y = get_sample_mean(X)\n",
    "plt.hist(y)"
   ]
  },
  {
   "cell_type": "markdown",
   "metadata": {},
   "source": [
    "## Pearson's Correlation Coefficient"
   ]
  },
  {
   "cell_type": "markdown",
   "metadata": {},
   "source": [
    "$r=\\frac{\\sum_{i=1}^n ((x_i - x)(y_i - y)) }{\\sqrt{\\sum_{i=1}^n ((x_i - x)^2(y_i - y)^2))}}$    , $r^2$ is coefficient of determination which gives proportion of varaince that is shared by both variables."
   ]
  },
  {
   "cell_type": "markdown",
   "metadata": {},
   "source": [
    "Here, 'x' is the mean of values $x_1$ to $x_n$ and similarly 'y' is mean of y values"
   ]
  },
  {
   "cell_type": "markdown",
   "metadata": {},
   "source": [
    "Above formula can also be written as :\n",
    "$r=\\frac{\\sum_{i=1}^n (C_{ij}) }{\\sqrt{\\sum_{i=1}^n (C_{ii}^2 C_{jj}^2)}}$\n",
    "\n",
    "Here $C_{ij}$ , $C_{ii}$ and $C_{jj}$ are Covariance of variables ij , ii and jj respectively.\n",
    "Like Variance means how a variable varies, covariance means how two variables vary together."
   ]
  },
  {
   "cell_type": "markdown",
   "metadata": {},
   "source": [
    "$Cov_{ij}=\\frac{\\sum_{i=1}^n (x-\\mu)(y-v)}{n-1}$\n",
    "But this does not interpret how strongly the two dataset are related."
   ]
  },
  {
   "cell_type": "code",
   "execution_count": 5,
   "metadata": {},
   "outputs": [
    {
     "data": {
      "text/plain": [
       "[<matplotlib.lines.Line2D at 0x21bad918860>]"
      ]
     },
     "execution_count": 5,
     "metadata": {},
     "output_type": "execute_result"
    },
    {
     "data": {
      "image/png": "[encoded data removed]",
      "text/plain": [
       "<Figure size 432x288 with 1 Axes>"
      ]
     },
     "metadata": {
      "needs_background": "light"
     },
     "output_type": "display_data"
    }
   ],
   "source": [
    "import numpy as np\n",
    "import pandas as pd\n",
    "from scipy.optimize import curve_fit\n",
    "import matplotlib.pyplot as plt\n",
    "%matplotlib inline\n",
    "var_df = pd.read_csv(\"C://Users/Vipul.joshi/Downloads/pearson_coefficient.txt\",sep='\\t',header=None)\n",
    "X = var_df[0]\n",
    "Y = var_df[1]\n",
    "plt.plot(X,Y)"
   ]
  },
  {
   "cell_type": "code",
   "execution_count": 6,
   "metadata": {},
   "outputs": [],
   "source": [
    "def pearson_coef(arr,arr1):\n",
    "    '''\n",
    "    Function to calculate pearson coefficient\n",
    "    '''\n",
    "    x = np.mean(arr)\n",
    "    y = np.mean(arr1)\n",
    "    #Uppar part of pearson coefficient formula\n",
    "    m = np.sum(np.array([(i-x) for i in arr])*np.array([(j-y) for j in arr1]))\n",
    "    #Denominator of perason coefficient Formula\n",
    "    n = np.sqrt(np.sum(np.array([(i-x)**2 for i in arr]))*np.sum(np.array([(j-y)**2 for j in arr1])))\n",
    "    r = m/n\n",
    "    return r\n",
    "    "
   ]
  },
  {
   "cell_type": "code",
   "execution_count": 7,
   "metadata": {},
   "outputs": [
    {
     "name": "stdout",
     "output_type": "stream",
     "text": [
      "The two dataset are strongly related as indicated by the value of Pearson Coefficient r : 0.9723599887024701\n",
      "(0.97235998870247, 0.0)\n"
     ]
    }
   ],
   "source": [
    "from scipy.stats.stats import pearsonr\n",
    "print('The two dataset are strongly related as indicated by the value of Pearson Coefficient r : {}'.format(pearson_coef(X,Y)))\n",
    "print(pearsonr(X,Y))"
   ]
  },
  {
   "cell_type": "code",
   "execution_count": 13,
   "metadata": {},
   "outputs": [],
   "source": [
    "def Pearson(x,y):\n",
    "    x_mean = np.mean(x)\n",
    "    y_mean = np.mean(y)\n",
    "    term1  = x - x_mean\n",
    "    term2  = y - y_mean\n",
    "    num_   = np.multiply(term1,term2)\n",
    "    num_   = num_.sum()\n",
    "    term3  = np.power(term1,2)\n",
    "    term4  = np.power(term2,2)\n",
    "    den_   = np.sqrt(np.sum(term3))*np.sqrt(np.sum(term4))\n",
    "    return np.divide(num_,den_)"
   ]
  },
  {
   "cell_type": "code",
   "execution_count": 14,
   "metadata": {},
   "outputs": [
    {
     "data": {
      "text/plain": [
       "0.97235998870247"
      ]
     },
     "execution_count": 14,
     "metadata": {},
     "output_type": "execute_result"
    }
   ],
   "source": [
    "Pearson(X,Y)"
   ]
  },
  {
   "cell_type": "code",
   "execution_count": 15,
   "metadata": {},
   "outputs": [
    {
     "name": "stdout",
     "output_type": "stream",
     "text": [
      "1.05 ms ± 33.2 µs per loop (mean ± std. dev. of 7 runs, 1000 loops each)\n"
     ]
    }
   ],
   "source": [
    "%%timeit\n",
    "Pearson(X,Y)"
   ]
  },
  {
   "cell_type": "code",
   "execution_count": 16,
   "metadata": {},
   "outputs": [
    {
     "name": "stdout",
     "output_type": "stream",
     "text": [
      "971 µs ± 30.4 µs per loop (mean ± std. dev. of 7 runs, 1000 loops each)\n"
     ]
    }
   ],
   "source": [
    "%%timeit\n",
    "pearson_coef(X,Y)\n"
   ]
  },
  {
   "cell_type": "code",
   "execution_count": null,
   "metadata": {},
   "outputs": [],
   "source": []
  }
 ],
 "metadata": {
  "kernelspec": {
   "display_name": "Python 3",
   "language": "python",
   "name": "python3"
  },
  "language_info": {
   "codemirror_mode": {
    "name": "ipython",
    "version": 3
   },
   "file_extension": ".py",
   "mimetype": "text/x-python",
   "name": "python",
   "nbconvert_exporter": "python",
   "pygments_lexer": "ipython3",
   "version": "3.7.3"
  }
 },
 "nbformat": 4,
 "nbformat_minor": 2
}
