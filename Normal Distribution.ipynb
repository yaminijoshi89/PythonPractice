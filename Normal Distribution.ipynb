{
 "cells": [
  {
   "cell_type": "markdown",
   "metadata": {},
   "source": [
    "## Central Limit Theorem"
   ]
  },
  {
   "cell_type": "markdown",
   "metadata": {},
   "source": [
    "As the number of samples taken from population increases, the distribution of the sample means tend to follow normal distribution"
   ]
  },
  {
   "cell_type": "code",
   "execution_count": 15,
   "metadata": {},
   "outputs": [],
   "source": [
    "import numpy as np\n",
    "import matplotlib.pyplot as plt\n",
    "import random\n",
    "def create_samples(num,size):\n",
    "    '''\n",
    "    Function to create 'num' number of samples of size 'size'\n",
    "    '''\n",
    "    return np.random.randint(1,100000,size=(num,size)) \n",
    "def get_sample_mean(arr):\n",
    "    '''\n",
    "    Function to get mean of an array\n",
    "    '''\n",
    "    return [np.mean(arr[i]) for i in range(len(arr))]"
   ]
  },
  {
   "cell_type": "code",
   "execution_count": 37,
   "metadata": {},
   "outputs": [
    {
     "name": "stdout",
     "output_type": "stream",
     "text": [
      "Please enter number of samples you want : 100000\n",
      "Please enter size of each samples you want : 1000\n"
     ]
    },
    {
     "data": {
      "text/plain": [
       "(array([1.7000e+01, 3.0500e+02, 2.8920e+03, 1.2607e+04, 2.8360e+04,\n",
       "        3.2123e+04, 1.7856e+04, 5.0550e+03, 7.1200e+02, 7.3000e+01]),\n",
       " array([45960.543 , 46742.4244, 47524.3058, 48306.1872, 49088.0686,\n",
       "        49869.95  , 50651.8314, 51433.7128, 52215.5942, 52997.4756,\n",
       "        53779.357 ]),\n",
       " <a list of 10 Patch objects>)"
      ]
     },
     "execution_count": 37,
     "metadata": {},
     "output_type": "execute_result"
    },
    {
     "data": {
      "image/png": "[encoded data removed]",
      "text/plain": [
       "<Figure size 432x288 with 1 Axes>"
      ]
     },
     "metadata": {
      "needs_background": "light"
     },
     "output_type": "display_data"
    }
   ],
   "source": [
    "num = int(input('Please enter number of samples you want : '))\n",
    "size = int(input('Please enter size of each samples you want : '))\n",
    "X = create_samples(num,size)\n",
    "y = get_sample_mean(X)\n",
    "plt.hist(y)"
   ]
  },
  {
   "cell_type": "markdown",
   "metadata": {},
   "source": [
    "## Pearson's Correlation Coefficient"
   ]
  },
  {
   "cell_type": "markdown",
   "metadata": {},
   "source": [
    "$r=\\frac{\\sum_{i=1}^n ((x_i - x)(y_i - y)) }{\\sqrt{\\sum_{i=1}^n ((x_i - x)^2(y_i - y)^2))}}$"
   ]
  },
  {
   "cell_type": "markdown",
   "metadata": {},
   "source": [
    "Here, 'x' is the mean of values $x_1$ to $x_n$ and similarly 'y' is mean of y values"
   ]
  },
  {
   "cell_type": "code",
   "execution_count": 17,
   "metadata": {},
   "outputs": [
    {
     "data": {
      "text/plain": [
       "[<matplotlib.lines.Line2D at 0x1dd88eb2278>]"
      ]
     },
     "execution_count": 17,
     "metadata": {},
     "output_type": "execute_result"
    },
    {
     "data": {
      "image/png": "[encoded data removed]",
      "text/plain": [
       "<Figure size 432x288 with 1 Axes>"
      ]
     },
     "metadata": {
      "needs_background": "light"
     },
     "output_type": "display_data"
    }
   ],
   "source": [
    "import numpy as np\n",
    "import pandas as pd\n",
    "from scipy.optimize import curve_fit\n",
    "import matplotlib.pyplot as plt\n",
    "%matplotlib inline\n",
    "var_df = pd.read_csv(r\"C:\\Users\\HP\\PythonCodes\\pearson_coefficient.txt\",sep='\\t',header=None)\n",
    "X = var_df[0]\n",
    "Y = var_df[1]\n",
    "plt.plot(X,Y)"
   ]
  },
  {
   "cell_type": "code",
   "execution_count": 57,
   "metadata": {},
   "outputs": [],
   "source": [
    "def pearson_coef(arr,arr1):\n",
    "    '''\n",
    "    Function to calculate pearson coefficient\n",
    "    '''\n",
    "    x = np.mean(arr)\n",
    "    y = np.mean(arr1)\n",
    "    #Uppar part of pearson coefficient formula\n",
    "    m = np.sum(np.array([(i-x) for i in arr])*np.array([(j-y) for j in arr1]))\n",
    "    #Denominator of perason coefficient Formula\n",
    "    n = np.sqrt(np.sum(np.array([(i-x)**2 for i in arr]))*np.sum(np.array([(j-y)**2 for j in arr1])))\n",
    "    r = m/n\n",
    "    return r\n",
    "    "
   ]
  },
  {
   "cell_type": "code",
   "execution_count": 60,
   "metadata": {},
   "outputs": [
    {
     "name": "stdout",
     "output_type": "stream",
     "text": [
      "The two dataset are strongly related as indicated by the value of Pearson Coefficient r : 0.9723599887024701\n",
      "(0.97235998870247, 0.0)\n"
     ]
    }
   ],
   "source": [
    "from scipy.stats.stats import pearsonr\n",
    "print('The two dataset are strongly related as indicated by the value of Pearson Coefficient r : {}'.format(pearson_coef(X,Y)))\n",
    "print(pearsonr(X,Y))"
   ]
  }
 ],
 "metadata": {
  "kernelspec": {
   "display_name": "Python 3",
   "language": "python",
   "name": "python3"
  },
  "language_info": {
   "codemirror_mode": {
    "name": "ipython",
    "version": 3
   },
   "file_extension": ".py",
   "mimetype": "text/x-python",
   "name": "python",
   "nbconvert_exporter": "python",
   "pygments_lexer": "ipython3",
   "version": "3.7.3"
  }
 },
 "nbformat": 4,
 "nbformat_minor": 2
}
