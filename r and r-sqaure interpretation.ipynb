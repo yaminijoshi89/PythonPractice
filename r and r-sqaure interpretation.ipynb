{
 "cells": [
  {
   "cell_type": "markdown",
   "metadata": {},
   "source": [
    "#### First let's define a linear equation , y=a+bx "
   ]
  },
  {
   "cell_type": "code",
   "execution_count": 2,
   "metadata": {},
   "outputs": [],
   "source": [
    "import numpy as np\n",
    "import matplotlib.pyplot as plt\n",
    "%matplotlib inline\n",
    "from scipy.optimize import curve_fit \n",
    "from scipy.stats import linregress"
   ]
  },
  {
   "cell_type": "code",
   "execution_count": 3,
   "metadata": {},
   "outputs": [],
   "source": [
    "def function_line(x,a,b):\n",
    "    '''\n",
    "    function to return linear equation y =a+b*x\n",
    "    '''\n",
    "    return a+np.multiply(b,x)\n",
    "\n",
    "def Pearson(x,y):\n",
    "    '''\n",
    "    Function to return r value for a dependent and independent variable se\n",
    "    '''\n",
    "    x_ = x-np.mean(x)\n",
    "    y_ = y-np.mean(y)\n",
    "    x_2 = np.power(x_,2).sum()\n",
    "    y_2 = np.power(y_,2).sum()\n",
    "    numer = np.multiply(x_,y_).sum()\n",
    "    denom = np.multiply(x_2,y_2)\n",
    "    denom_ = np.sqrt(denom)\n",
    "    \n",
    "    r = np.divide(numer,denom_) \n",
    "    \n",
    "    return r\n",
    "\n",
    "def r_squared(y,y_res):\n",
    "    '''\n",
    "    Function that calculates and return r-square value \n",
    "    '''\n",
    "    #y_res = y-function_parabola(x,*popt_parabola)\n",
    "    num = np.power(y_res,2).sum()\n",
    "    den = np.power((y-np.mean(y)),2).sum()\n",
    "    r_squared = 1-np.divide(num,den)\n",
    "    return r_squared"
   ]
  },
  {
   "cell_type": "markdown",
   "metadata": {},
   "source": [
    "#### Now let's fit the values of y for given values of x"
   ]
  },
  {
   "cell_type": "code",
   "execution_count": 6,
   "metadata": {},
   "outputs": [
    {
     "data": {
      "text/plain": [
       "[<matplotlib.lines.Line2D at 0x25d5a372278>]"
      ]
     },
     "execution_count": 6,
     "metadata": {},
     "output_type": "execute_result"
    },
    {
     "data": {
      "image/png": "[encoded data removed]",
      "text/plain": [
       "<Figure size 432x288 with 1 Axes>"
      ]
     },
     "metadata": {
      "needs_background": "light"
     },
     "output_type": "display_data"
    }
   ],
   "source": [
    "x = np.linspace(-5,5,50)\n",
    "\n",
    "y_line = function_line(x,2,4)\n",
    "\n",
    "plt.plot(x,y_line,'*')\n",
    "plt.title('Data on which fitting is required')\n",
    "\n",
    "popt_line,pcov_line = curve_fit(function_line,x,y_line)\n",
    "plt.plot(x,function_line(x,*popt_line))"
   ]
  },
  {
   "cell_type": "markdown",
   "metadata": {},
   "source": [
    "#### Let's calculate r and r-square for this"
   ]
  },
  {
   "cell_type": "code",
   "execution_count": 16,
   "metadata": {},
   "outputs": [
    {
     "name": "stdout",
     "output_type": "stream",
     "text": [
      "Correlation Coefficient with original data is :  1.0\n",
      "Correlation Coefficient with fitted line is :  1.0\n",
      "r-square with residual data is :  100.0 %\n"
     ]
    }
   ],
   "source": [
    "y_r = np.array(y_line-function_line(x,*popt_line))\n",
    "print('Correlation Coefficient with original data is : ',Pearson(x,y_line))\n",
    "print('Correlation Coefficient with fitted line is : ',Pearson(x,function_line(x,*popt_line)))\n",
    "print('r-square with residual data is : ',r_squared(y_line,y_r)*100,'%')"
   ]
  },
  {
   "cell_type": "markdown",
   "metadata": {},
   "source": [
    "### Now let's work on Parabola"
   ]
  },
  {
   "cell_type": "code",
   "execution_count": 18,
   "metadata": {},
   "outputs": [],
   "source": [
    "def function_parabola(x,a,b):\n",
    "    '''\n",
    "    Function to return parabola equation, y =a*x+b*x^2\n",
    "    '''\n",
    "    return np.multiply(a,x)+np.multiply(b,np.power(x,2))"
   ]
  },
  {
   "cell_type": "markdown",
   "metadata": {},
   "source": [
    "#### Now let's fit the already defined values of x in parabola function"
   ]
  },
  {
   "cell_type": "code",
   "execution_count": 24,
   "metadata": {},
   "outputs": [
    {
     "data": {
      "text/plain": [
       "[<matplotlib.lines.Line2D at 0x25d5a8e4da0>]"
      ]
     },
     "execution_count": 24,
     "metadata": {},
     "output_type": "execute_result"
    },
    {
     "data": {
      "image/png": "[encoded data removed]",
      "text/plain": [
       "<Figure size 432x288 with 1 Axes>"
      ]
     },
     "metadata": {
      "needs_background": "light"
     },
     "output_type": "display_data"
    }
   ],
   "source": [
    "y_parabola = function_parabola(x,1,2)\n",
    "plt.plot(x,y_parabola)\n",
    "popt_parabola,pcov_parabola = curve_fit(function_parabola,x,y_parabola)\n",
    "plt.plot(x,function_parabola(x,*popt_parabola),'*')"
   ]
  },
  {
   "cell_type": "markdown",
   "metadata": {},
   "source": [
    "#### Now let's calculate r and r-square for this parabola function"
   ]
  },
  {
   "cell_type": "code",
   "execution_count": 26,
   "metadata": {},
   "outputs": [
    {
     "name": "stdout",
     "output_type": "stream",
     "text": [
      "Correlation Coefficient with original data is :  0.18659255209981648\n",
      "Correlation Coefficient with fitted line is :  0.18659255209981643\n",
      "r-square with residual data is :  100.0 %\n"
     ]
    }
   ],
   "source": [
    "y_rp = np.array(y_parabola-function_parabola(x,*popt_parabola))\n",
    "print('Correlation Coefficient with original data is : ',Pearson(x,y_parabola))\n",
    "print('Correlation Coefficient with fitted line is : ',Pearson(x,function_parabola(x,*popt_line)))\n",
    "print('r-square with residual data is : ',r_squared(y_parabola,y_rp)*100,'%')"
   ]
  },
  {
   "cell_type": "markdown",
   "metadata": {},
   "source": [
    "## Hence, r is zero here that means the relationship is not linear. Though, r-square is 100% that means the 100% of the variation in y 'is explained by' the variance in predictor x"
   ]
  },
  {
   "cell_type": "code",
   "execution_count": null,
   "metadata": {},
   "outputs": [],
   "source": []
  }
 ],
 "metadata": {
  "kernelspec": {
   "display_name": "Python 3",
   "language": "python",
   "name": "python3"
  },
  "language_info": {
   "codemirror_mode": {
    "name": "ipython",
    "version": 3
   },
   "file_extension": ".py",
   "mimetype": "text/x-python",
   "name": "python",
   "nbconvert_exporter": "python",
   "pygments_lexer": "ipython3",
   "version": "3.7.3"
  }
 },
 "nbformat": 4,
 "nbformat_minor": 2
}
