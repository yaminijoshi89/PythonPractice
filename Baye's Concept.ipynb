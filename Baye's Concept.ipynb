{
 "cells": [
  {
   "cell_type": "markdown",
   "metadata": {},
   "source": [
    "## Problem Statement :\n",
    "### Relationship between academic qualifications and wealth of the person.\n",
    "What is the probability of being super wealthy given that I got a bachelor degree? OR P(Y=3|X=2) \n",
    "Wealth of the person be random variable Y and academic qualification be X. The probability of Y taking assignment of y is written as P(Y=y) = P(y), the probability of Y taking assignment other than y is P(Y=~y) OR P(~y). Similarly for X."
   ]
  },
  {
   "cell_type": "markdown",
   "metadata": {},
   "source": [
    "# $P(Y|X) = \\frac{P(X,Y)}{P(X)} = \\frac{P(X|Y)P(Y)}{\\sum_Y{P(X,Y)}} = \\frac{P(X|Y)P(Y)}{P(X|Y)P(Y)+P(X|Z)P(Z)}$\n",
    "where , Z = ~Y"
   ]
  },
  {
   "cell_type": "markdown",
   "metadata": {},
   "source": [
    "<img src=\"../Pictures/Table.png\" />"
   ]
  },
  {
   "cell_type": "markdown",
   "metadata": {},
   "source": [
    "<img src=\"../Pictures/Groups.png\" />"
   ]
  },
  {
   "cell_type": "markdown",
   "metadata": {},
   "source": [
    "https://towardsdatascience.com/bayes-theorem-some-perspectives-eeb4421b186e"
   ]
  },
  {
   "cell_type": "code",
   "execution_count": null,
   "metadata": {},
   "outputs": [],
   "source": []
  }
 ],
 "metadata": {
  "kernelspec": {
   "display_name": "Python 3",
   "language": "python",
   "name": "python3"
  },
  "language_info": {
   "codemirror_mode": {
    "name": "ipython",
    "version": 3
   },
   "file_extension": ".py",
   "mimetype": "text/x-python",
   "name": "python",
   "nbconvert_exporter": "python",
   "pygments_lexer": "ipython3",
   "version": "3.7.3"
  }
 },
 "nbformat": 4,
 "nbformat_minor": 2
}
